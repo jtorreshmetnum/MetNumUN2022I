{
  "nbformat": 4,
  "nbformat_minor": 0,
  "metadata": {
    "colab": {
      "name": "Copia de lab6.ipynb",
      "provenance": [],
      "collapsed_sections": []
    },
    "kernelspec": {
      "name": "python3",
      "display_name": "Python 3"
    }
  },
  "cells": [
    {
      "cell_type": "markdown",
      "metadata": {
        "id": "r4rXWI4gCN5B"
      },
      "source": [
        "# Arithmetic Series\n",
        "\n",
        "## Modified from Arithmetic Series -  [Wolfram MathWorld](https://mathworld.wolfram.com/ArithmeticSeries.html) - [wikipedia](https://en.wikipedia.org/wiki/Arithmetic_progression)\n",
        "\n",
        "\n",
        "# Serie aritmética\n",
        "\n",
        "## Modificado de la Serie aritmética - [Wolfram MathWorld](https://mathworld.wolfram.com/ArithmeticSeries.html) - [wikipedia](https://en.wikipedia.org/wiki/Arithmetic_progression)\n",
        "\n",
        "\n",
        "Una sucesión aritmética $\\{a_k\\}$ para $k=1, 2, ..., $ en la que cada término se calcula a partir del anterior sumando (o restando) una constante $d$.\n",
        "\n",
        "\\begin{align*}\n",
        "a_1 & \\\\\n",
        "a_2 &\\ \\ =\\ \\ a_1 + d \\\\\n",
        "a_3 &\\ \\ =\\ \\ a_2 + d \\ \\ =\\ \\ a_1 + 2d \\\\\n",
        "a_4 &\\ \\ =\\ \\ a_3 + d \\ \\ =\\ \\ a_2 + 2d \\ \\ =\\ \\ a_1 + 3d \\\\\n",
        "\\vdots\\\\\n",
        "a_k &\\ \\ =\\ \\ a_{(k-1)}+d \\ =\\ a_{(k-2)}+2d \\ =\\ \\ldots \\ =\\ \\ a_1+(k-1)d\n",
        "\\end{align*}\n",
        "\n",
        "Por lo tanto, para $k>=1$,\n",
        "\n",
        "$$ a_k = a_1 + (k-1)d$$\n",
        "\n",
        "Con $a_1$ y $d$ dados.\n",
        "\n",
        "<br />\n",
        "\n",
        "La sucesión de la suma parcial de los primeros $n$ términos de una sucesión se llama serie, en el caso de una sucesión aritmética la serie se llama serie aritmética.\n",
        "\n",
        "Si $a_1= 1$ y $d=1$ tenemos, la secuencia aritmética más simple, la secuencia de números naturales $\\{a_k = k \\}$ para $k=1, 2, ..., $ es decir, la secuencia\n",
        "$$1, 2, ...,$$\n",
        "La serie correspondiente es\n",
        "$$\n",
        "S_n = 1 + 2+ \\ldots + (n-1)+ n = \\sum_{k=1}^n k\n",
        "$$\n",
        "se puede calcular como una función de $n$.\n",
        "\n",
        "Suponga que alineamos un $S_{n-1}$ con un segundo $S_{n-1}$ que tienen los términos sumados en orden inverso y usted suma término a término, tenemos\n",
        "\\begin{array}{llclclclclc}\n",
        "  S_{n-1} &=& 1 &+& 2 &+& \\ldots &+& (n-2) &+& (n-1) \\\\\n",
        "  S_{n-1} &=& (n-1) &+& (n-2) &+& \\ldots &+& 2 &+& 1 \\\\\n",
        "   \\hline \\\\\n",
        "   2S_{n-1} &=& n &+& n &+& \\ldots &+& n &+& n \\\\\n",
        "\\end{array}\n",
        "asi que\n",
        "$$ 2S_{n-1} = (n-1)n $$\n",
        "entonces\n",
        "$$ S_{n-1} = \\frac{1}{2} (n-1)n$$\n",
        "por lo tanto\n",
        "$$ S_{n} = \\frac{1}{2} n(n+1)$$\n",
        "\n",
        "\n",
        "\\begin{align*}\n",
        "S_n &= \\sum_{k=1}^n a_k \\\\\n",
        "    &= \\sum_{k=1}^n[a_1+(k-1)d] \\\\\n",
        "    &= na_1 + d \\sum_{k=1}^n(k-1) \\\\\n",
        "    &= na_1 + d \\sum_{k=0}^{n-1} k \\\\\n",
        "    &= na_1 + d \\sum_{k=1}^{n-1} k \\\\\n",
        "    &= na_1 + \\frac{1}{2} d(n-1)n\\\\\n",
        "\\end{align*}\n",
        "asi que\n",
        "$$ S_n = \\frac{1}{2} n[2 a_1 +d(n-1)].$$\n",
        "\n",
        "Tenga en cuenta, sin embargo, que\n",
        "$$a_1+a_n=a_1+[a_1+d(n-1)]=2a_1+d(n-1),$$\n",
        "asi que\n",
        "$$S_n = \\frac{1}{2}n(a_1+a_n),$$\n",
        "\n",
        "\n",
        "o $n$ veces la media aritmética del primer y último término! Este es el truco que Gauss usó cuando era un colegial para resolver el problema de sumar los números enteros de $1$ a $100$ que su maestro le dio como tarea. Mientras sus compañeros de clase trabajaban arduamente haciendo la suma a mano, Gauss |escribió un solo número, la respuesta correcta\n",
        "\n",
        "$$\\frac{1}{2}(100)(1+100)=50·101=5050$$\n",
        "en su pizarra (Burton 1989, pp. 80-81; Hoffman 1998, p. 207). Cuando se examinaron las respuestas, la de Gauss resultó ser la única correcta.\n",
        "\n",
        "<br />\n",
        "\n",
        "Si la secuencia comienza en el índice $0$, $\\{a_k\\}$ para $ k=0, 1, 2, ..., $ tenemos\n",
        "\n",
        "\\begin{align*}\n",
        "a_0 & \\\\\n",
        "a_1 &\\ \\ =\\ \\ a_0 + d \\\\\n",
        "a_2 &\\ \\ =\\ \\ a_1 + d \\ \\ =\\ \\ a_0 + 2d \\\\\n",
        "a_3 &\\ \\ =\\ \\ a_2 + d \\ \\ =\\ \\ a_1 + 2d \\ \\ =\\ \\ a_0 + 3d \\\\\n",
        "\\vdots\\\\\n",
        "a_k &\\ \\ =\\ \\ a_{(k-1)}+d \\ =\\ a_{(k-2)}+2d \\ =\\ \\ldots \\ = \\ \\ a_1+(k-1)d \\ \\ =\\ \\ a_0+kd\n",
        "\\end{align*}\n",
        "\n",
        "<br />\n",
        "dado $a_0$ y $d$.\n",
        "\n",
        "En este caso, la suma de los términos entre $0$ y $n$ de la sucesión aritmética viene dada por\n",
        "\\begin{align*}\n",
        "S_n &= \\sum_{k=0}^{n} a_k \\\\\n",
        "    &= \\sum_{k=0}^{n}[a_0+kd] \\\\\n",
        "    &= (n+1) a_0 + d \\sum_{k=0}^{n} k \\\\\n",
        "    &= (n+1) a_0 + d \\sum_{k=1}^{} k \\\\\n",
        "    &=(n+1) a_0+ \\frac{1}{2} dn(n+1) \\\\\n",
        "\\end{align*}\n",
        "asi que\n",
        "$$ S_n = \\frac{1}{2} (n+1)[2 a_0 + dn].$$\n",
        "<br />\n",
        "$$ S_n = \\frac{1}{2} (n+1)[a_0+ a_n].$$"
      ]
    },
    {
      "cell_type": "markdown",
      "metadata": {
        "id": "GfBh-QHRcods"
      },
      "source": [
        "### Code\n",
        "####  The simplest arithmetic sequence and series\n",
        "\n",
        "la secuencia aritmetica mas simple es:\n",
        "\n",
        "\n",
        "$$a_n = 1, 2, ...,$$"
      ]
    },
    {
      "cell_type": "markdown",
      "metadata": {
        "id": "n36eWqEXiktl"
      },
      "source": [
        "El siguiente código traza los primeros $n = 15$ términos de la secuencia aritmética más simple\n",
        "$$\\{a_n = n\\} \\text{ for } n =1,2,\\ldots  $$\n",
        "i.e\n",
        "$$\\{a_n = n\\} =1,2,\\ldots $$\n",
        "y los términos correspondientes de la serie aritmética más simple\n",
        "$$  S_n = 1 + 2+ \\ldots + (n-1)+ n = \\sum_{k=1}^n k=  \\frac{1}{2} n(n+1)$$\n"
      ]
    },
    {
      "cell_type": "markdown",
      "metadata": {
        "id": "_VyGiunIZknK"
      },
      "source": [
        "Plot"
      ]
    },
    {
      "cell_type": "code",
      "metadata": {
        "colab": {
          "base_uri": "https://localhost:8080/",
          "height": 283
        },
        "id": "gx3Q4uo-ONCi",
        "outputId": "ace8323e-31ff-4467-c720-739b33b2557b"
      },
      "source": [
        "import matplotlib.pyplot as plt\n",
        "\n",
        "n = 15\n",
        "S_n = 0\n",
        "Serie_S_n=[]\n",
        "Sequence_a_n =[]\n",
        "for i in range(1,n+1):\n",
        "  S_n = S_n + i\n",
        "  Serie_S_n.append(S_n)\n",
        "  Sequence_a_n.append(i)\n",
        " \n",
        "\n",
        "plt.plot(Serie_S_n, color='black',label='Serie_S_n')\n",
        "plt.plot(Sequence_a_n, color='red',label='Sequence_a_n')\n",
        "plt.legend()\n",
        "\n",
        "\n"
      ],
      "execution_count": null,
      "outputs": [
        {
          "output_type": "execute_result",
          "data": {
            "text/plain": [
              "<matplotlib.legend.Legend at 0x7effd5d0dd50>"
            ]
          },
          "metadata": {},
          "execution_count": 5
        },
        {
          "output_type": "display_data",
          "data": {
            "image/png": "[encoded data removed]",
            "text/plain": [
              "<Figure size 432x288 with 1 Axes>"
            ]
          },
          "metadata": {
            "needs_background": "light"
          }
        }
      ]
    },
    {
      "cell_type": "code",
      "metadata": {
        "colab": {
          "base_uri": "https://localhost:8080/"
        },
        "id": "o2es6b4cysQk",
        "outputId": "2d8875c7-e4c1-49cc-9b38-028475c5f19f"
      },
      "source": [
        "Sequence_a_n"
      ],
      "execution_count": null,
      "outputs": [
        {
          "output_type": "execute_result",
          "data": {
            "text/plain": [
              "[1, 2, 3, 4, 5, 6, 7, 8, 9, 10, 11, 12, 13, 14, 15]"
            ]
          },
          "metadata": {
            "tags": []
          },
          "execution_count": 12
        }
      ]
    },
    {
      "cell_type": "code",
      "metadata": {
        "colab": {
          "base_uri": "https://localhost:8080/"
        },
        "id": "T2VeBOBZ0ibg",
        "outputId": "daaf6544-5edd-4843-a485-505e1a06a3f7"
      },
      "source": [
        "Serie_S_n"
      ],
      "execution_count": null,
      "outputs": [
        {
          "output_type": "execute_result",
          "data": {
            "text/plain": [
              "[1, 3, 6, 10, 15, 21, 28, 36, 45, 55, 66, 78, 91, 105, 120]"
            ]
          },
          "metadata": {
            "tags": []
          },
          "execution_count": 14
        }
      ]
    },
    {
      "cell_type": "markdown",
      "metadata": {
        "id": "0ybfJdHxZGvW"
      },
      "source": [
        "El siguiente código calcula el término $n=10000000$ de la serie aritmética\n",
        "$$  S_n = 1 + 2+ \\ldots + (n-1)+ n = \\sum_{k=1}^n =  \\frac{1}{2} n(n+1)$$"
      ]
    },
    {
      "cell_type": "code",
      "metadata": {
        "colab": {
          "base_uri": "https://localhost:8080/"
        },
        "id": "99xYHDQycnol",
        "outputId": "a21e2f92-385a-4cea-910f-7e32bafd11e4"
      },
      "source": [
        "n = 10000000\n",
        "S_n = 0\n",
        "for i in range(1,n+1):  # range(n+1) goes form 1 to n\n",
        "  S_n = S_n + i \n",
        "print(S_n)"
      ],
      "execution_count": null,
      "outputs": [
        {
          "output_type": "stream",
          "text": [
            "50000005000000\n"
          ],
          "name": "stdout"
        }
      ]
    },
    {
      "cell_type": "code",
      "metadata": {
        "colab": {
          "base_uri": "https://localhost:8080/"
        },
        "id": "RGCSuDGHeFwH",
        "outputId": "e1d60652-ce77-4933-a4dc-fa178257f349"
      },
      "source": [
        "(1/2)*n*(n+1)"
      ],
      "execution_count": null,
      "outputs": [
        {
          "output_type": "execute_result",
          "data": {
            "text/plain": [
              "50000005000000.0"
            ]
          },
          "metadata": {
            "tags": []
          },
          "execution_count": 8
        }
      ]
    },
    {
      "cell_type": "markdown",
      "metadata": {
        "id": "bg8zxAhcecpk"
      },
      "source": [
        "El siguiente código calcula el término $n=10000000$ de la serie aritmética\n",
        "$$ Sn = \\sum_{k=1}^n a_k$$\n",
        "<br />\n",
        "para la secuencia aritmética $a_ k = 10 + 3 (k-1) $ para $k=1,2,\\ldots$\n",
        "\n",
        "<br /> \n",
        "$$ 10,13,16,19,21,\\ldots$$\n"
      ]
    },
    {
      "cell_type": "markdown",
      "metadata": {
        "id": "hg3ixQ3bZiVh"
      },
      "source": [
        "Plot"
      ]
    },
    {
      "cell_type": "code",
      "metadata": {
        "colab": {
          "base_uri": "https://localhost:8080/"
        },
        "id": "w8FP1XqSgnie",
        "outputId": "4a81915d-b3b6-4089-cb05-5a46b03ba87f"
      },
      "source": [
        "n = 10000000\n",
        "a = 10\n",
        "d = 3\n",
        "S_n = 0\n",
        "for i in range(1,n+1):  # range(n+19 goes form 1 to n\n",
        "  a_n = a + d * (i-1) \n",
        "  S_n = S_n + a_n\n",
        "print(S_n)"
      ],
      "execution_count": null,
      "outputs": [
        {
          "output_type": "stream",
          "text": [
            "150000085000000\n"
          ],
          "name": "stdout"
        }
      ]
    },
    {
      "cell_type": "markdown",
      "source": [
        "$$ S_n = \\frac{1}{2} (n+1)[2 a_0 + dn].$$\n",
        "<br />\n",
        "$$ S_n = \\frac{1}{2} (n+1)[a_0+ a_n].$$"
      ],
      "metadata": {
        "id": "1GkaiWeCtMAU"
      }
    },
    {
      "cell_type": "code",
      "metadata": {
        "colab": {
          "base_uri": "https://localhost:8080/"
        },
        "id": "g_38RfB_hgg2",
        "outputId": "088f349a-3f72-4e5d-b977-30b61ddcbb25"
      },
      "source": [
        "n*(2*a +d*(n-1))/2"
      ],
      "execution_count": null,
      "outputs": [
        {
          "output_type": "execute_result",
          "data": {
            "text/plain": [
              "150000085000000.0"
            ]
          },
          "metadata": {
            "tags": []
          },
          "execution_count": 25
        }
      ]
    },
    {
      "cell_type": "code",
      "metadata": {
        "colab": {
          "base_uri": "https://localhost:8080/"
        },
        "id": "zS3qb_xE1u58",
        "outputId": "3a90e3cb-788b-49cc-db02-6b53b4d092d9"
      },
      "source": [
        "n*(a +a_n)/2"
      ],
      "execution_count": null,
      "outputs": [
        {
          "output_type": "execute_result",
          "data": {
            "text/plain": [
              "150000085000000.0"
            ]
          },
          "metadata": {
            "tags": []
          },
          "execution_count": 26
        }
      ]
    },
    {
      "cell_type": "markdown",
      "source": [
        "El siguiente código calcula el término $n=10000000$ de la serie aritmética\n",
        "$$ Sn = \\sum_{k=1}^n a_k$$\n",
        "<br />\n",
        "para la secuencia aritmética $a_ k = 10 + 3 (k-1) $ para $k=1,2,\\ldots$\n",
        "\n",
        "<br /> \n",
        "$$ 10,13,16,19,21,\\ldots$$\n"
      ],
      "metadata": {
        "id": "xWEKPULArwxg"
      }
    },
    {
      "cell_type": "code",
      "metadata": {
        "colab": {
          "base_uri": "https://localhost:8080/",
          "height": 285
        },
        "id": "7qesKez70zub",
        "outputId": "cd0c0a7a-936e-417d-8653-5aa6c817d4c1"
      },
      "source": [
        "import matplotlib.pyplot as plt\n",
        "\n",
        "n = 20\n",
        "a = 10\n",
        "d = 3\n",
        "S_n = 0\n",
        "Serie_S_n=[]\n",
        "Sequence_a_n =[]\n",
        "for i in range(1,n+1):  # range(n+19 goes form 1 to n\n",
        "  a_n = a + d * (i-1) \n",
        "  S_n = S_n + a_n\n",
        "  Serie_S_n.append(S_n)\n",
        "  Sequence_a_n.append(a_n)\n",
        "\n",
        "plt.plot(Serie_S_n, color='black',label='Serie_S_n')\n",
        "plt.plot(Sequence_a_n, color='red',label='Sequence_a_n')\n",
        "plt.legend()"
      ],
      "execution_count": null,
      "outputs": [
        {
          "output_type": "execute_result",
          "data": {
            "text/plain": [
              "<matplotlib.legend.Legend at 0x7f4135d81d10>"
            ]
          },
          "metadata": {
            "tags": []
          },
          "execution_count": 22
        },
        {
          "output_type": "display_data",
          "data": {
            "image/png": "[encoded data removed]",
            "text/plain": [
              "<Figure size 432x288 with 1 Axes>"
            ]
          },
          "metadata": {
            "tags": [],
            "needs_background": "light"
          }
        }
      ]
    },
    {
      "cell_type": "markdown",
      "metadata": {
        "id": "r9qzONSlZq2q"
      },
      "source": [
        "## Your own example of arithmetic series "
      ]
    },
    {
      "cell_type": "markdown",
      "source": [
        "El siguiente código calcula el término $n=10000000$ de la serie aritmética\n",
        "$$ Sn = \\sum_{k=1}^n a_k$$\n",
        "<br />\n",
        "para la secuencia aritmética $a_ k = 26 + 4 (k-1) $ para $k=1,2,\\ldots$\n"
      ],
      "metadata": {
        "id": "bNjMh97gqmOj"
      }
    },
    {
      "cell_type": "code",
      "source": [
        "n = 10000000\n",
        "a = 26\n",
        "d = 4\n",
        "acum = 0\n",
        "for i in range(1,n+1):  # range(n+19 goes form 1 to n\n",
        "  ax = a + d * (i-1) \n",
        "  acum = acum + ax\n",
        "print(acum, Serie_acum, Sequence_ax)"
      ],
      "metadata": {
        "colab": {
          "base_uri": "https://localhost:8080/"
        },
        "id": "YDpMPSQZpGhA",
        "outputId": "fabfc06c-8e87-4692-8441-77736c36faf4"
      },
      "execution_count": null,
      "outputs": [
        {
          "output_type": "stream",
          "name": "stdout",
          "text": [
            "200000240000000 [69, 150, 243, 348, 465, 594, 735, 888, 1053, 1230, 1419, 1620, 1833, 2058, 2295, 2544, 2805, 3078, 3363, 3660] [69, 81, 93, 105, 117, 129, 141, 153, 165, 177, 189, 201, 213, 225, 237, 249, 261, 273, 285, 297]\n"
          ]
        }
      ]
    },
    {
      "cell_type": "markdown",
      "source": [
        "##Gráfica"
      ],
      "metadata": {
        "id": "596QHmpcpGEx"
      }
    },
    {
      "cell_type": "code",
      "metadata": {
        "id": "SrJ_dPxS0pwP",
        "colab": {
          "base_uri": "https://localhost:8080/",
          "height": 282
        },
        "outputId": "e270d076-7537-4052-fb87-b26636a13fed"
      },
      "source": [
        "import matplotlib.pyplot as plt\n",
        "\n",
        "n = 20\n",
        "a = 26\n",
        "d = 4\n",
        "acum = 0\n",
        "Serie_acum=[]\n",
        "Sequence_ax =[]\n",
        "for i in range(1,n+1):  # range(n+19 goes form 1 to n\n",
        "  ax = a + d * (i-1) \n",
        "  acum = acum + ax\n",
        "  Serie_acum.append(acum)\n",
        "  Sequence_ax.append(ax)\n",
        "\n",
        "plt.plot(Serie_acum, color='yellow',label='Serie_n')\n",
        "plt.plot(Sequence_ax, color='black',label='Sequence_an')\n",
        "plt.legend()"
      ],
      "execution_count": null,
      "outputs": [
        {
          "output_type": "execute_result",
          "data": {
            "text/plain": [
              "<matplotlib.legend.Legend at 0x7f49dd08c0d0>"
            ]
          },
          "metadata": {},
          "execution_count": 5
        },
        {
          "output_type": "display_data",
          "data": {
            "text/plain": [
              "<Figure size 432x288 with 1 Axes>"
            ],
            "image/png": "[encoded data removed]"
          },
          "metadata": {
            "needs_background": "light"
          }
        }
      ]
    },
    {
      "cell_type": "markdown",
      "source": [
        "## Your own example of arithmetic series 2\n"
      ],
      "metadata": {
        "id": "_fWwX-9GrnaH"
      }
    },
    {
      "cell_type": "markdown",
      "source": [
        "El siguiente código calcula el término $n=10000000$ de la serie aritmética\n",
        "$$ Sn = \\sum_{k=1}^n a_k$$\n",
        "<br />\n",
        "para la secuencia aritmética $a_ k = 69 + 12 (k-1) $ para $k=1,2,\\ldots$"
      ],
      "metadata": {
        "id": "deLcp_3eszF4"
      }
    },
    {
      "cell_type": "code",
      "source": [
        "n = 10000000\n",
        "a = 69\n",
        "d = 12\n",
        "acum = 0\n",
        "for i in range(1,n+1):  # range(n+19 goes form 1 to n\n",
        "  ax = a + d * (i-1) \n",
        "  acum = acum + ax\n",
        "print(acum, Serie_acum, Sequence_ax)\n",
        "\n",
        "import matplotlib.pyplot as plt\n",
        "\n",
        "n = 20\n",
        "a = 69\n",
        "d = 12\n",
        "acum = 0\n",
        "Serie_acum=[]\n",
        "Sequence_ax =[]\n",
        "for i in range(1,n+1):  # range(n+19 goes form 1 to n\n",
        "  ax = a + d * (i-1) \n",
        "  acum = acum + ax\n",
        "  Serie_acum.append(acum)\n",
        "  Sequence_ax.append(ax)\n",
        "\n",
        "plt.plot(Serie_acum, color='yellow',label='Serie_n')\n",
        "plt.plot(Sequence_ax, color='black',label='Sequence_an')\n",
        "plt.legend()"
      ],
      "metadata": {
        "colab": {
          "base_uri": "https://localhost:8080/",
          "height": 320
        },
        "id": "ff9rPCDMsvu-",
        "outputId": "8ff56220-7f56-42ff-cf95-fbb497190126"
      },
      "execution_count": null,
      "outputs": [
        {
          "output_type": "stream",
          "name": "stdout",
          "text": [
            "600000630000000 [69, 150, 243, 348, 465, 594, 735, 888, 1053, 1230, 1419, 1620, 1833, 2058, 2295, 2544, 2805, 3078, 3363, 3660] [69, 81, 93, 105, 117, 129, 141, 153, 165, 177, 189, 201, 213, 225, 237, 249, 261, 273, 285, 297]\n"
          ]
        },
        {
          "output_type": "execute_result",
          "data": {
            "text/plain": [
              "<matplotlib.legend.Legend at 0x7f49dcea7190>"
            ]
          },
          "metadata": {},
          "execution_count": 8
        },
        {
          "output_type": "display_data",
          "data": {
            "text/plain": [
              "<Figure size 432x288 with 1 Axes>"
            ],
            "image/png": "[encoded data removed]"
          },
          "metadata": {
            "needs_background": "light"
          }
        }
      ]
    },
    {
      "cell_type": "markdown",
      "metadata": {
        "id": "AKWJ1F7hac8T"
      },
      "source": [
        "# Geometric Series\n",
        "\n",
        "## Modified from Geometric Series -  [Wolfram MathWorld](https://mathworld.wolfram.com/GeometricSeries.html) - [wikipedia](https://en.wikipedia.org/wiki/Geometric_series)\n"
      ]
    },
    {
      "cell_type": "markdown",
      "metadata": {
        "id": "W5zx_-nR81GI"
      },
      "source": [
        "Una serie geométrica es la suma de una secuencia $\\{a_k\\}$ para $k=1, 2, ..., $ en la que cada término se calcula a partir del anterior sumando (o restando) una constante $d$ .\n",
        "\n",
        "\\begin{align*}\n",
        "a_0 &\\ \\ =\\ \\ r^0 \\ \\ =\\ \\ 1\\\\\n",
        "a_1 &\\ \\ =\\ \\ a_0 *  r \\ \\ =\\ \\  r\\\\\n",
        "a_2 &\\ \\ =\\ \\ a_1 * r\\ \\ =\\ \\ a_0 * r^2  \\ \\ =\\ \\ r^2 \\\\\n",
        "a_3 &\\ \\ =\\ \\ a_2 * r \\ \\ =\\ \\ a_0 * r^3 \\ \\ =\\ \\  r^3  \\\\\n",
        "a_4 &\\ \\ =\\ \\ a_3 * r\\ \\  =\\ \\ a_0 * r^4 \\ \\  =\\ \\ r^4  \\\\\n",
        "\\vdots\\\\\n",
        "a_k &\\ \\ =\\ \\ a_{(k-1)}* r \\ =\\   a_0 * r^k \\ \\  =\\ \\  r^k\n",
        "\\end{align*}\n",
        "\n",
        "La suma de los primeros $n$ términos de la secuencia geométrica (llamada serie geométrica) viene dada por\n",
        "$$\n",
        "\\begin{array}{ll}\n",
        "S_n &=  1 + r + r^2 + \\cdots + r^{n-1} +r^n \\\\\n",
        " &=  (1 + r + r^2 + \\cdots + r^{n-1} ) +r^n \\\\\n",
        " &= S_{n-1}  +r^n \n",
        "\\end{array}\n",
        "$$\n",
        "\n",
        "$$\n",
        "\\begin{array}{ll}\n",
        "S_n &=  1 + r + r^2 + \\cdots + r^{n-1} +r^n \\\\\n",
        " &=  1 + (r + r^2 + \\cdots + r^{n-1}  +r^n)  \\\\\n",
        " &=   1 + r (1 +  r  + r^2 + \\cdots + r^{n-1} )  \\\\\n",
        "  &=   1 + r   S_{n-1} \n",
        "\\end{array}\n",
        "$$\n",
        "\n",
        "Entonces\n",
        "$$\n",
        " S_{n-1}  +r^n =   1 + r   S_{n-1} \n",
        "$$\n",
        "\n",
        "Por lo tanto\n",
        "$$\n",
        " S_{n-1} (1 -r)   +r^n =   1 - r^n \n",
        "$$\n",
        "\n",
        "$$\n",
        " S_{n-1}   =   \\frac{1 - r^n }{1 -r}\n",
        "$$\n",
        "\n",
        "$$\n",
        " S_{n}   =   \\frac{1 - r^{n+1} }{1 -r}  = \\frac{ r^{n+1} - 1}{r -1}\n",
        "$$\n"
      ]
    },
    {
      "cell_type": "markdown",
      "metadata": {
        "id": "CDUYfT8k8crr"
      },
      "source": [
        "## Nodos en árbol binario completo con niveles $L=0,1,2,\\cdots, L-1$\n",
        "\n",
        "![](https://raw.githubusercontent.com/gjhernandezp/algorithms/master/Lab7/ComBinTree.png)\n",
        "\n",
        "En un árbol binario completo tienes en cada nivel $k =0,1,2,\\cdots $ $ 2^k $\n",
        "\n",
        "$$\n",
        "\\begin{array}{ll}\n",
        "\\text {Level } 0 \\rightarrow 2^0 = 1 \\text { node (root)} \\\\\n",
        "\\text {Level } 1 \\rightarrow 2^1 = 2 \\text { nodes} \\\\\n",
        "\\text {Level } 2 \\rightarrow 2^2 = 4 \\text { nodes} \\\\\n",
        "\\text {Level } 3 \\rightarrow 2^3 = 8 \\text { nodes} \\\\\n",
        "\\vdots\\\\\n",
        "\\text {Level } k \\rightarrow 2^k  \\text { nodes} \\\\\n",
        "\\end{array}\n",
        "$$\n",
        "\n",
        "nodos, con $l = 0,1,2, ... $ el nivel\n",
        "\n",
        "Número total del árbol completo con niveles $L=0,1,2,\\cdots, L-1$\n",
        "\n",
        "$$ \n",
        "2^0 + 2^1 + 2^2 + \\cdots +2^{L-1}  = 1 + 2 + 4 + \\cdots +2^{L-1} = \\sum_{k=0}^{L-1} 2^k = \\frac{ 2^{L} - 1}{2 -1} = 2^{L} - 1\n",
        "$$"
      ]
    },
    {
      "cell_type": "markdown",
      "metadata": {
        "id": "YiWlrhLZNMX9"
      },
      "source": [
        "### My own example "
      ]
    },
    {
      "cell_type": "code",
      "metadata": {
        "id": "YvMkYU8UNOll",
        "colab": {
          "base_uri": "https://localhost:8080/",
          "height": 311
        },
        "outputId": "d40f7d14-466a-403a-c4b7-bb10c1d82400"
      },
      "source": [
        "n = 10\n",
        "a = 69\n",
        "d = 12\n",
        "acum = 0\n",
        "los_que_van = []\n",
        "for i in range(1,n+1): \n",
        "  ax = a * d ** (i-1) \n",
        "  los_que_van.append(ax)\n",
        "  acum = acum + ax\n",
        "print(acum,los_que_van)\n",
        "\n",
        "import matplotlib.pyplot as plt\n",
        "\n",
        "n = 20\n",
        "a = 69\n",
        "d = 12\n",
        "acum = 0\n",
        "Serie_acum=[]\n",
        "Sequence_ax =[]\n",
        "for i in range(1,n+1):  # range(n+19 goes form 1 to n\n",
        "  ax = a * d ** (i-1) \n",
        "  acum = acum + ax\n",
        "  Serie_acum.append(acum)\n",
        "  Sequence_ax.append(ax)\n",
        "\n",
        "plt.plot(Serie_acum, color='yellow',label='Serie_n')\n",
        "plt.plot(Sequence_ax, color='black',label='Sequence_an')\n",
        "plt.legend()"
      ],
      "execution_count": null,
      "outputs": [
        {
          "output_type": "stream",
          "name": "stdout",
          "text": [
            "388390739217 [69, 828, 9936, 119232, 1430784, 17169408, 206032896, 2472394752, 29668737024, 356024844288]\n"
          ]
        },
        {
          "output_type": "execute_result",
          "data": {
            "text/plain": [
              "<matplotlib.legend.Legend at 0x7f49dce8ff10>"
            ]
          },
          "metadata": {},
          "execution_count": 12
        },
        {
          "output_type": "display_data",
          "data": {
            "text/plain": [
              "<Figure size 432x288 with 1 Axes>"
            ],
            "image/png": "[encoded data removed]"
          },
          "metadata": {
            "needs_background": "light"
          }
        }
      ]
    },
    {
      "cell_type": "markdown",
      "source": [
        "# my own example 2"
      ],
      "metadata": {
        "id": "NUJfXvWZzlyB"
      }
    },
    {
      "cell_type": "code",
      "source": [
        "n = 10\n",
        "a = 1\n",
        "d = 1\n",
        "acum = 0\n",
        "los_que_van = []\n",
        "for i in range(1,n+1): \n",
        "  ax = a * d ** (i-1) \n",
        "  los_que_van.append(ax)\n",
        "  acum = acum + ax\n",
        "print(acum,los_que_van)\n",
        "\n",
        "import matplotlib.pyplot as plt\n",
        "\n",
        "n = 20\n",
        "a = 1\n",
        "d = 1\n",
        "acum = 0\n",
        "Serie_acum=[]\n",
        "Sequence_ax =[]\n",
        "for i in range(1,n+1):  # range(n+19 goes form 1 to n\n",
        "  ax = a * d ** (i-1) \n",
        "  acum = acum + ax\n",
        "  Serie_acum.append(acum)\n",
        "  Sequence_ax.append(ax)\n",
        "\n",
        "plt.plot(Serie_acum, color='yellow',label='Serie_n')\n",
        "plt.plot(Sequence_ax, color='black',label='Sequence_an')\n",
        "plt.legend()"
      ],
      "metadata": {
        "colab": {
          "base_uri": "https://localhost:8080/",
          "height": 300
        },
        "id": "X5Fg5HmezxZO",
        "outputId": "5f8dad6a-e0fa-4f28-8c9e-03d11c4805db"
      },
      "execution_count": null,
      "outputs": [
        {
          "output_type": "stream",
          "name": "stdout",
          "text": [
            "10 [1, 1, 1, 1, 1, 1, 1, 1, 1, 1]\n"
          ]
        },
        {
          "output_type": "execute_result",
          "data": {
            "text/plain": [
              "<matplotlib.legend.Legend at 0x7f49dcdce5d0>"
            ]
          },
          "metadata": {},
          "execution_count": 13
        },
        {
          "output_type": "display_data",
          "data": {
            "text/plain": [
              "<Figure size 432x288 with 1 Axes>"
            ],
            "image/png": "[encoded data removed]"
          },
          "metadata": {
            "needs_background": "light"
          }
        }
      ]
    },
    {
      "cell_type": "markdown",
      "metadata": {
        "id": "Dd3RWDwJe2xD"
      },
      "source": [
        "## Zenon Arrow\n",
        "\n",
        "![](https://raw.githubusercontent.com/gjhernandezp/algorithms/master/Lab7/zeno-paradox-arrow.png)\n",
        "\n",
        "https://leseditionsdeschavonnes.com/2018/10/15/the-paradox-of-achilles-and-the-tortoise/\n",
        "\n",
        "\n",
        "\n",
        "$$ \n",
        "\\lim_{n\\rightarrow \\infty} \\left\\{\\left(\\frac{1}{2}\\right)^0 + \\left(\\frac{1}{2}\\right)^1 +\\left(\\frac{1}{2}\\right)^2 + \\cdots +\\left(\\frac{1}{2}\\right)^{n} \\right\\} = \\lim_{n\\rightarrow \\infty} \\left\\{ 1 +\\frac{1}{2} + \\frac{1}{4} + \\frac{1}{8} + \\cdots +\\frac{1}{2^{n}}\\right\\}  = \\lim_{n\\rightarrow \\infty} \\sum_{k=0}^{n} \\left(\\frac{1}{2}\\right)^k = \\lim_{n\\rightarrow \\infty} \\frac{ 1- \\left(\\frac{1}{2}\\right)^n  }{1 - \\left(\\frac{1}{2}\\right) } = \\frac{ 1}{1 - \\left(\\frac{1}{2}\\right)} = 2\n",
        "$$"
      ]
    },
    {
      "cell_type": "markdown",
      "metadata": {
        "id": "R-J4EekBNPkd"
      },
      "source": [
        "### Code"
      ]
    },
    {
      "cell_type": "code",
      "metadata": {
        "id": "8xdBovY3NEW_",
        "colab": {
          "base_uri": "https://localhost:8080/"
        },
        "outputId": "6b6b4312-147b-49dc-da89-13bfbe9d2991"
      },
      "source": [
        "n = 1000\n",
        "a = 1/2\n",
        "\n",
        "acum = 0\n",
        "los_que_van = []\n",
        "for i in range(0,n): \n",
        "  ax = a ** (i) \n",
        "  los_que_van.append(ax)\n",
        "  acum = acum + ax\n",
        "print(acum,los_que_van)"
      ],
      "execution_count": 2,
      "outputs": [
        {
          "output_type": "stream",
          "name": "stdout",
          "text": [
            "2.0 [1.0, 0.5, 0.25, 0.125, 0.0625, 0.03125, 0.015625, 0.0078125, 0.00390625, 0.001953125, 0.0009765625, 0.00048828125, 0.000244140625, 0.0001220703125, 6.103515625e-05, 3.0517578125e-05, 1.52587890625e-05, 7.62939453125e-06, 3.814697265625e-06, 1.9073486328125e-06, 9.5367431640625e-07, 4.76837158203125e-07, 2.384185791015625e-07, 1.1920928955078125e-07, 5.960464477539063e-08, 2.9802322387695312e-08, 1.4901161193847656e-08, 7.450580596923828e-09, 3.725290298461914e-09, 1.862645149230957e-09, 9.313225746154785e-10, 4.656612873077393e-10, 2.3283064365386963e-10, 1.1641532182693481e-10, 5.820766091346741e-11, 2.9103830456733704e-11, 1.4551915228366852e-11, 7.275957614183426e-12, 3.637978807091713e-12, 1.8189894035458565e-12, 9.094947017729282e-13, 4.547473508864641e-13, 2.2737367544323206e-13, 1.1368683772161603e-13, 5.684341886080802e-14, 2.842170943040401e-14, 1.4210854715202004e-14, 7.105427357601002e-15, 3.552713678800501e-15, 1.7763568394002505e-15, 8.881784197001252e-16, 4.440892098500626e-16, 2.220446049250313e-16, 1.1102230246251565e-16, 5.551115123125783e-17, 2.7755575615628914e-17, 1.3877787807814457e-17, 6.938893903907228e-18, 3.469446951953614e-18, 1.734723475976807e-18, 8.673617379884035e-19, 4.336808689942018e-19, 2.168404344971009e-19, 1.0842021724855044e-19, 5.421010862427522e-20, 2.710505431213761e-20, 1.3552527156068805e-20, 6.776263578034403e-21, 3.3881317890172014e-21, 1.6940658945086007e-21, 8.470329472543003e-22, 4.235164736271502e-22, 2.117582368135751e-22, 1.0587911840678754e-22, 5.293955920339377e-23, 2.6469779601696886e-23, 1.3234889800848443e-23, 6.617444900424222e-24, 3.308722450212111e-24, 1.6543612251060553e-24, 8.271806125530277e-25, 4.1359030627651384e-25, 2.0679515313825692e-25, 1.0339757656912846e-25, 5.169878828456423e-26, 2.5849394142282115e-26, 1.2924697071141057e-26, 6.462348535570529e-27, 3.2311742677852644e-27, 1.6155871338926322e-27, 8.077935669463161e-28, 4.0389678347315804e-28, 2.0194839173657902e-28, 1.0097419586828951e-28, 5.048709793414476e-29, 2.524354896707238e-29, 1.262177448353619e-29, 6.310887241768095e-30, 3.1554436208840472e-30, 1.5777218104420236e-30, 7.888609052210118e-31, 3.944304526105059e-31, 1.9721522630525295e-31, 9.860761315262648e-32, 4.930380657631324e-32, 2.465190328815662e-32, 1.232595164407831e-32, 6.162975822039155e-33, 3.0814879110195774e-33, 1.5407439555097887e-33, 7.703719777548943e-34, 3.851859888774472e-34, 1.925929944387236e-34, 9.62964972193618e-35, 4.81482486096809e-35, 2.407412430484045e-35, 1.2037062152420224e-35, 6.018531076210112e-36, 3.009265538105056e-36, 1.504632769052528e-36, 7.52316384526264e-37, 3.76158192263132e-37, 1.88079096131566e-37, 9.4039548065783e-38, 4.70197740328915e-38, 2.350988701644575e-38, 1.1754943508222875e-38, 5.877471754111438e-39, 2.938735877055719e-39, 1.4693679385278594e-39, 7.346839692639297e-40, 3.6734198463196485e-40, 1.8367099231598242e-40, 9.183549615799121e-41, 4.591774807899561e-41, 2.2958874039497803e-41, 1.1479437019748901e-41, 5.739718509874451e-42, 2.8698592549372254e-42, 1.4349296274686127e-42, 7.174648137343064e-43, 3.587324068671532e-43, 1.793662034335766e-43, 8.96831017167883e-44, 4.484155085839415e-44, 2.2420775429197073e-44, 1.1210387714598537e-44, 5.605193857299268e-45, 2.802596928649634e-45, 1.401298464324817e-45, 7.006492321624085e-46, 3.503246160812043e-46, 1.7516230804060213e-46, 8.758115402030107e-47, 4.3790577010150533e-47, 2.1895288505075267e-47, 1.0947644252537633e-47, 5.473822126268817e-48, 2.7369110631344083e-48, 1.3684555315672042e-48, 6.842277657836021e-49, 3.4211388289180104e-49, 1.7105694144590052e-49, 8.552847072295026e-50, 4.276423536147513e-50, 2.1382117680737565e-50, 1.0691058840368783e-50, 5.345529420184391e-51, 2.6727647100921956e-51, 1.3363823550460978e-51, 6.681911775230489e-52, 3.3409558876152446e-52, 1.6704779438076223e-52, 8.352389719038111e-53, 4.176194859519056e-53, 2.088097429759528e-53, 1.044048714879764e-53, 5.22024357439882e-54, 2.61012178719941e-54, 1.305060893599705e-54, 6.525304467998525e-55, 3.2626522339992623e-55, 1.6313261169996311e-55, 8.156630584998156e-56, 4.078315292499078e-56, 2.039157646249539e-56, 1.0195788231247695e-56, 5.0978941156238473e-57, 2.5489470578119236e-57, 1.2744735289059618e-57, 6.372367644529809e-58, 3.1861838222649046e-58, 1.5930919111324523e-58, 7.965459555662261e-59, 3.982729777831131e-59, 1.9913648889155653e-59, 9.956824444577827e-60, 4.9784122222889134e-60, 2.4892061111444567e-60, 1.2446030555722283e-60, 6.223015277861142e-61, 3.111507638930571e-61, 1.5557538194652854e-61, 7.778769097326427e-62, 3.8893845486632136e-62, 1.9446922743316068e-62, 9.723461371658034e-63, 4.861730685829017e-63, 2.4308653429145085e-63, 1.2154326714572542e-63, 6.077163357286271e-64, 3.0385816786431356e-64, 1.5192908393215678e-64, 7.596454196607839e-65, 3.7982270983039195e-65, 1.8991135491519597e-65, 9.495567745759799e-66, 4.7477838728798994e-66, 2.3738919364399497e-66, 1.1869459682199748e-66, 5.934729841099874e-67, 2.967364920549937e-67, 1.4836824602749686e-67, 7.418412301374843e-68, 3.7092061506874214e-68, 1.8546030753437107e-68, 9.273015376718553e-69, 4.636507688359277e-69, 2.3182538441796384e-69, 1.1591269220898192e-69, 5.795634610449096e-70, 2.897817305224548e-70, 1.448908652612274e-70, 7.24454326306137e-71, 3.622271631530685e-71, 1.8111358157653425e-71, 9.055679078826712e-72, 4.527839539413356e-72, 2.263919769706678e-72, 1.131959884853339e-72, 5.659799424266695e-73, 2.8298997121333476e-73, 1.4149498560666738e-73, 7.074749280333369e-74, 3.5373746401666845e-74, 1.7686873200833423e-74, 8.843436600416711e-75, 4.421718300208356e-75, 2.210859150104178e-75, 1.105429575052089e-75, 5.527147875260445e-76, 2.7635739376302223e-76, 1.3817869688151111e-76, 6.908934844075556e-77, 3.454467422037778e-77, 1.727233711018889e-77, 8.636168555094445e-78, 4.3180842775472223e-78, 2.1590421387736112e-78, 1.0795210693868056e-78, 5.397605346934028e-79, 2.698802673467014e-79, 1.349401336733507e-79, 6.747006683667535e-80, 3.3735033418337674e-80, 1.6867516709168837e-80, 8.433758354584419e-81, 4.2168791772922093e-81, 2.1084395886461046e-81, 1.0542197943230523e-81, 5.271098971615262e-82, 2.635549485807631e-82, 1.3177747429038154e-82, 6.588873714519077e-83, 3.2944368572595385e-83, 1.6472184286297693e-83, 8.236092143148846e-84, 4.118046071574423e-84, 2.0590230357872116e-84, 1.0295115178936058e-84, 5.147557589468029e-85, 2.5737787947340145e-85, 1.2868893973670072e-85, 6.434446986835036e-86, 3.217223493417518e-86, 1.608611746708759e-86, 8.043058733543795e-87, 4.021529366771898e-87, 2.010764683385949e-87, 1.0053823416929744e-87, 5.026911708464872e-88, 2.513455854232436e-88, 1.256727927116218e-88, 6.28363963558109e-89, 3.141819817790545e-89, 1.5709099088952725e-89, 7.854549544476363e-90, 3.9272747722381812e-90, 1.9636373861190906e-90, 9.818186930595453e-91, 4.909093465297727e-91, 2.4545467326488633e-91, 1.2272733663244316e-91, 6.136366831622158e-92, 3.068183415811079e-92, 1.5340917079055395e-92, 7.670458539527698e-93, 3.835229269763849e-93, 1.9176146348819244e-93, 9.588073174409622e-94, 4.794036587204811e-94, 2.3970182936024055e-94, 1.1985091468012028e-94, 5.992545734006014e-95, 2.996272867003007e-95, 1.4981364335015035e-95, 7.490682167507517e-96, 3.745341083753759e-96, 1.8726705418768793e-96, 9.363352709384397e-97, 4.6816763546921983e-97, 2.3408381773460992e-97, 1.1704190886730496e-97, 5.852095443365248e-98, 2.926047721682624e-98, 1.463023860841312e-98, 7.31511930420656e-99, 3.65755965210328e-99, 1.82877982605164e-99, 9.1438991302582e-100, 4.5719495651291e-100, 2.28597478256455e-100, 1.142987391282275e-100, 5.714936956411375e-101, 2.8574684782056875e-101, 1.4287342391028437e-101, 7.143671195514219e-102, 3.5718355977571093e-102, 1.7859177988785547e-102, 8.929588994392773e-103, 4.464794497196387e-103, 2.2323972485981933e-103, 1.1161986242990967e-103, 5.5809931214954833e-104, 2.7904965607477417e-104, 1.3952482803738708e-104, 6.976241401869354e-105, 3.488120700934677e-105, 1.7440603504673385e-105, 8.720301752336693e-106, 4.3601508761683463e-106, 2.1800754380841732e-106, 1.0900377190420866e-106, 5.450188595210433e-107, 2.7250942976052165e-107, 1.3625471488026082e-107, 6.812735744013041e-108, 3.4063678720065206e-108, 1.7031839360032603e-108, 8.515919680016301e-109, 4.257959840008151e-109, 2.1289799200040754e-109, 1.0644899600020377e-109, 5.3224498000101884e-110, 2.6612249000050942e-110, 1.3306124500025471e-110, 6.653062250012736e-111, 3.326531125006368e-111, 1.663265562503184e-111, 8.31632781251592e-112, 4.15816390625796e-112, 2.07908195312898e-112, 1.03954097656449e-112, 5.19770488282245e-113, 2.598852441411225e-113, 1.2994262207056124e-113, 6.497131103528062e-114, 3.248565551764031e-114, 1.6242827758820155e-114, 8.121413879410078e-115, 4.060706939705039e-115, 2.0303534698525194e-115, 1.0151767349262597e-115, 5.075883674631299e-116, 2.5379418373156492e-116, 1.2689709186578246e-116, 6.344854593289123e-117, 3.1724272966445615e-117, 1.5862136483222808e-117, 7.931068241611404e-118, 3.965534120805702e-118, 1.982767060402851e-118, 9.913835302014255e-119, 4.9569176510071274e-119, 2.4784588255035637e-119, 1.2392294127517818e-119, 6.196147063758909e-120, 3.0980735318794546e-120, 1.5490367659397273e-120, 7.745183829698637e-121, 3.8725919148493183e-121, 1.9362959574246591e-121, 9.681479787123296e-122, 4.840739893561648e-122, 2.420369946780824e-122, 1.210184973390412e-122, 6.05092486695206e-123, 3.02546243347603e-123, 1.512731216738015e-123, 7.563656083690075e-124, 3.7818280418450374e-124, 1.8909140209225187e-124, 9.454570104612593e-125, 4.727285052306297e-125, 2.3636425261531484e-125, 1.1818212630765742e-125, 5.909106315382871e-126, 2.9545531576914354e-126, 1.4772765788457177e-126, 7.386382894228589e-127, 3.6931914471142943e-127, 1.8465957235571472e-127, 9.232978617785736e-128, 4.616489308892868e-128, 2.308244654446434e-128, 1.154122327223217e-128, 5.770611636116085e-129, 2.8853058180580424e-129, 1.4426529090290212e-129, 7.213264545145106e-130, 3.606632272572553e-130, 1.8033161362862765e-130, 9.016580681431383e-131, 4.5082903407156913e-131, 2.2541451703578456e-131, 1.1270725851789228e-131, 5.635362925894614e-132, 2.817681462947307e-132, 1.4088407314736535e-132, 7.044203657368268e-133, 3.522101828684134e-133, 1.761050914342067e-133, 8.805254571710335e-134, 4.4026272858551673e-134, 2.2013136429275836e-134, 1.1006568214637918e-134, 5.503284107318959e-135, 2.7516420536594796e-135, 1.3758210268297398e-135, 6.879105134148699e-136, 3.4395525670743494e-136, 1.7197762835371747e-136, 8.598881417685874e-137, 4.299440708842937e-137, 2.1497203544214684e-137, 1.0748601772107342e-137, 5.374300886053671e-138, 2.6871504430268355e-138, 1.3435752215134178e-138, 6.717876107567089e-139, 3.3589380537835444e-139, 1.6794690268917722e-139, 8.397345134458861e-140, 4.1986725672294305e-140, 2.0993362836147152e-140, 1.0496681418073576e-140, 5.248340709036788e-141, 2.624170354518394e-141, 1.312085177259197e-141, 6.560425886295985e-142, 3.2802129431479926e-142, 1.6401064715739963e-142, 8.200532357869981e-143, 4.100266178934991e-143, 2.0501330894674953e-143, 1.0250665447337477e-143, 5.1253327236687384e-144, 2.5626663618343692e-144, 1.2813331809171846e-144, 6.406665904585923e-145, 3.2033329522929615e-145, 1.6016664761464807e-145, 8.008332380732404e-146, 4.004166190366202e-146, 2.002083095183101e-146, 1.0010415475915505e-146, 5.0052077379577523e-147, 2.5026038689788762e-147, 1.2513019344894381e-147, 6.256509672447191e-148, 3.1282548362235952e-148, 1.5641274181117976e-148, 7.820637090558988e-149, 3.910318545279494e-149, 1.955159272639747e-149, 9.775796363198735e-150, 4.887898181599368e-150, 2.443949090799684e-150, 1.221974545399842e-150, 6.10987272699921e-151, 3.054936363499605e-151, 1.5274681817498023e-151, 7.637340908749012e-152, 3.818670454374506e-152, 1.909335227187253e-152, 9.546676135936265e-153, 4.7733380679681323e-153, 2.3866690339840662e-153, 1.1933345169920331e-153, 5.966672584960166e-154, 2.983336292480083e-154, 1.4916681462400413e-154, 7.458340731200207e-155, 3.7291703656001034e-155, 1.8645851828000517e-155, 9.322925914000258e-156, 4.661462957000129e-156, 2.3307314785000646e-156, 1.1653657392500323e-156, 5.826828696250162e-157, 2.913414348125081e-157, 1.4567071740625404e-157, 7.283535870312702e-158, 3.641767935156351e-158, 1.8208839675781755e-158, 9.104419837890877e-159, 4.552209918945439e-159, 2.2761049594727193e-159, 1.1380524797363597e-159, 5.6902623986817984e-160, 2.8451311993408992e-160, 1.4225655996704496e-160, 7.112827998352248e-161, 3.556413999176124e-161, 1.778206999588062e-161, 8.89103499794031e-162, 4.445517498970155e-162, 2.2227587494850775e-162, 1.1113793747425387e-162, 5.556896873712694e-163, 2.778448436856347e-163, 1.3892242184281734e-163, 6.946121092140867e-164, 3.4730605460704336e-164, 1.7365302730352168e-164, 8.682651365176084e-165, 4.341325682588042e-165, 2.170662841294021e-165, 1.0853314206470105e-165, 5.426657103235053e-166, 2.7133285516175262e-166, 1.3566642758087631e-166, 6.783321379043816e-167, 3.391660689521908e-167, 1.695830344760954e-167, 8.47915172380477e-168, 4.239575861902385e-168, 2.1197879309511924e-168, 1.0598939654755962e-168, 5.299469827377981e-169, 2.6497349136889905e-169, 1.3248674568444952e-169, 6.624337284222476e-170, 3.312168642111238e-170, 1.656084321055619e-170, 8.280421605278095e-171, 4.140210802639048e-171, 2.070105401319524e-171, 1.035052700659762e-171, 5.17526350329881e-172, 2.587631751649405e-172, 1.2938158758247024e-172, 6.469079379123512e-173, 3.234539689561756e-173, 1.617269844780878e-173, 8.08634922390439e-174, 4.043174611952195e-174, 2.0215873059760975e-174, 1.0107936529880487e-174, 5.053968264940244e-175, 2.526984132470122e-175, 1.263492066235061e-175, 6.317460331175305e-176, 3.1587301655876523e-176, 1.5793650827938261e-176, 7.896825413969131e-177, 3.9484127069845653e-177, 1.9742063534922827e-177, 9.871031767461413e-178, 4.935515883730707e-178, 2.4677579418653533e-178, 1.2338789709326767e-178, 6.169394854663383e-179, 3.084697427331692e-179, 1.542348713665846e-179, 7.71174356832923e-180, 3.855871784164615e-180, 1.9279358920823073e-180, 9.639679460411536e-181, 4.819839730205768e-181, 2.409919865102884e-181, 1.204959932551442e-181, 6.02479966275721e-182, 3.012399831378605e-182, 1.5061999156893026e-182, 7.530999578446513e-183, 3.7654997892232564e-183, 1.8827498946116282e-183, 9.413749473058141e-184, 4.706874736529071e-184, 2.3534373682645353e-184, 1.1767186841322676e-184, 5.883593420661338e-185, 2.941796710330669e-185, 1.4708983551653345e-185, 7.354491775826673e-186, 3.6772458879133364e-186, 1.8386229439566682e-186, 9.193114719783341e-187, 4.5965573598916705e-187, 2.2982786799458352e-187, 1.1491393399729176e-187, 5.745696699864588e-188, 2.872848349932294e-188, 1.436424174966147e-188, 7.182120874830735e-189, 3.5910604374153675e-189, 1.7955302187076838e-189, 8.977651093538419e-190, 4.4888255467692094e-190, 2.2444127733846047e-190, 1.1222063866923024e-190, 5.611031933461512e-191, 2.805515966730756e-191, 1.402757983365378e-191, 7.01378991682689e-192, 3.506894958413445e-192, 1.7534474792067224e-192, 8.767237396033612e-193, 4.383618698016806e-193, 2.191809349008403e-193, 1.0959046745042015e-193, 5.479523372521008e-194, 2.739761686260504e-194, 1.369880843130252e-194, 6.84940421565126e-195, 3.42470210782563e-195, 1.712351053912815e-195, 8.561755269564074e-196, 4.280877634782037e-196, 2.1404388173910186e-196, 1.0702194086955093e-196, 5.351097043477547e-197, 2.6755485217387732e-197, 1.3377742608693866e-197, 6.688871304346933e-198, 3.3444356521734666e-198, 1.6722178260867333e-198, 8.361089130433666e-199, 4.180544565216833e-199, 2.0902722826084166e-199, 1.0451361413042083e-199, 5.225680706521042e-200, 2.612840353260521e-200, 1.3064201766302604e-200, 6.532100883151302e-201, 3.266050441575651e-201, 1.6330252207878255e-201, 8.165126103939127e-202, 4.082563051969564e-202, 2.041281525984782e-202, 1.020640762992391e-202, 5.103203814961955e-203, 2.5516019074809773e-203, 1.2758009537404886e-203, 6.379004768702443e-204, 3.1895023843512216e-204, 1.5947511921756108e-204, 7.973755960878054e-205, 3.986877980439027e-205, 1.9934389902195135e-205, 9.967194951097568e-206, 4.983597475548784e-206, 2.491798737774392e-206, 1.245899368887196e-206, 6.22949684443598e-207, 3.11474842221799e-207, 1.557374211108995e-207, 7.786871055544975e-208, 3.8934355277724873e-208, 1.9467177638862437e-208, 9.733588819431218e-209, 4.866794409715609e-209, 2.4333972048578046e-209, 1.2166986024289023e-209, 6.083493012144512e-210, 3.041746506072256e-210, 1.520873253036128e-210, 7.60436626518064e-211, 3.80218313259032e-211, 1.90109156629516e-211, 9.5054578314758e-212, 4.7527289157379e-212, 2.37636445786895e-212, 1.188182228934475e-212, 5.940911144672375e-213, 2.9704555723361872e-213, 1.4852277861680936e-213, 7.426138930840468e-214, 3.713069465420234e-214, 1.856534732710117e-214, 9.282673663550585e-215, 4.641336831775293e-215, 2.3206684158876463e-215, 1.1603342079438231e-215, 5.801671039719116e-216, 2.900835519859558e-216, 1.450417759929779e-216, 7.252088799648895e-217, 3.6260443998244473e-217, 1.8130221999122236e-217, 9.065110999561118e-218, 4.532555499780559e-218, 2.2662777498902796e-218, 1.1331388749451398e-218, 5.665694374725699e-219, 2.8328471873628494e-219, 1.4164235936814247e-219, 7.082117968407124e-220, 3.541058984203562e-220, 1.770529492101781e-220, 8.852647460508905e-221, 4.4263237302544523e-221, 2.2131618651272261e-221, 1.1065809325636131e-221, 5.5329046628180653e-222, 2.7664523314090327e-222, 1.3832261657045163e-222, 6.916130828522582e-223, 3.458065414261291e-223, 1.7290327071306454e-223, 8.645163535653227e-224, 4.322581767826614e-224, 2.161290883913307e-224, 1.0806454419566534e-224, 5.403227209783267e-225, 2.7016136048916335e-225, 1.3508068024458167e-225, 6.754034012229084e-226, 3.377017006114542e-226, 1.688508503057271e-226, 8.442542515286355e-227, 4.2212712576431773e-227, 2.1106356288215886e-227, 1.0553178144107943e-227, 5.276589072053972e-228, 2.638294536026986e-228, 1.319147268013493e-228, 6.595736340067465e-229, 3.2978681700337323e-229, 1.6489340850168661e-229, 8.244670425084331e-230, 4.1223352125421653e-230, 2.0611676062710827e-230, 1.0305838031355413e-230, 5.152919015677707e-231, 2.5764595078388533e-231, 1.2882297539194267e-231, 6.441148769597133e-232, 3.220574384798567e-232, 1.6102871923992833e-232, 8.051435961996417e-233, 4.0257179809982083e-233, 2.0128589904991042e-233, 1.0064294952495521e-233, 5.0321474762477604e-234, 2.5160737381238802e-234, 1.2580368690619401e-234, 6.290184345309701e-235, 3.1450921726548502e-235, 1.5725460863274251e-235, 7.862730431637126e-236, 3.931365215818563e-236, 1.9656826079092814e-236, 9.828413039546407e-237, 4.914206519773204e-237, 2.457103259886602e-237, 1.228551629943301e-237, 6.142758149716505e-238, 3.0713790748582522e-238, 1.5356895374291261e-238, 7.678447687145631e-239, 3.8392238435728152e-239, 1.9196119217864076e-239, 9.598059608932038e-240, 4.799029804466019e-240, 2.3995149022330095e-240, 1.1997574511165048e-240, 5.998787255582524e-241, 2.999393627791262e-241, 1.499696813895631e-241, 7.498484069478155e-242, 3.7492420347390774e-242, 1.8746210173695387e-242, 9.373105086847693e-243, 4.686552543423847e-243, 2.3432762717119234e-243, 1.1716381358559617e-243, 5.858190679279809e-244, 2.9290953396399042e-244, 1.4645476698199521e-244, 7.322738349099761e-245, 3.6613691745498803e-245, 1.8306845872749401e-245, 9.153422936374701e-246, 4.5767114681873503e-246, 2.2883557340936752e-246, 1.1441778670468376e-246, 5.720889335234188e-247, 2.860444667617094e-247, 1.430222333808547e-247, 7.151111669042735e-248, 3.5755558345213674e-248, 1.7877779172606837e-248, 8.938889586303419e-249, 4.4694447931517093e-249, 2.2347223965758547e-249, 1.1173611982879273e-249, 5.586805991439637e-250, 2.7934029957198183e-250, 1.3967014978599092e-250, 6.983507489299546e-251, 3.491753744649773e-251, 1.7458768723248864e-251, 8.729384361624432e-252, 4.364692180812216e-252, 2.182346090406108e-252, 1.091173045203054e-252, 5.45586522601527e-253, 2.727932613007635e-253, 1.3639663065038175e-253, 6.819831532519088e-254, 3.409915766259544e-254, 1.704957883129772e-254, 8.52478941564886e-255, 4.26239470782443e-255, 2.131197353912215e-255, 1.0655986769561075e-255, 5.327993384780537e-256, 2.6639966923902686e-256, 1.3319983461951343e-256, 6.659991730975672e-257, 3.329995865487836e-257, 1.664997932743918e-257, 8.32498966371959e-258, 4.162494831859795e-258, 2.0812474159298974e-258, 1.0406237079649487e-258, 5.2031185398247434e-259, 2.6015592699123717e-259, 1.3007796349561859e-259, 6.503898174780929e-260, 3.2519490873904646e-260, 1.6259745436952323e-260, 8.129872718476162e-261, 4.064936359238081e-261, 2.0324681796190404e-261, 1.0162340898095202e-261, 5.081170449047601e-262, 2.5405852245238005e-262, 1.2702926122619002e-262, 6.351463061309501e-263, 3.1757315306547506e-263, 1.5878657653273753e-263, 7.939328826636877e-264, 3.9696644133184383e-264, 1.9848322066592191e-264, 9.924161033296096e-265, 4.962080516648048e-265, 2.481040258324024e-265, 1.240520129162012e-265, 6.20260064581006e-266, 3.10130032290503e-266, 1.550650161452515e-266, 7.753250807262575e-267, 3.8766254036312874e-267, 1.9383127018156437e-267, 9.691563509078218e-268, 4.845781754539109e-268, 2.4228908772695546e-268, 1.2114454386347773e-268, 6.057227193173887e-269, 3.0286135965869433e-269, 1.5143067982934716e-269, 7.571533991467358e-270, 3.785766995733679e-270, 1.8928834978668395e-270, 9.464417489334198e-271, 4.732208744667099e-271, 2.3661043723335494e-271, 1.1830521861667747e-271, 5.915260930833874e-272, 2.957630465416937e-272, 1.4788152327084684e-272, 7.394076163542342e-273, 3.697038081771171e-273, 1.8485190408855855e-273, 9.242595204427927e-274, 4.621297602213964e-274, 2.310648801106982e-274, 1.155324400553491e-274, 5.776622002767455e-275, 2.8883110013837273e-275, 1.4441555006918637e-275, 7.220777503459318e-276, 3.610388751729659e-276, 1.8051943758648296e-276, 9.025971879324148e-277, 4.512985939662074e-277, 2.256492969831037e-277, 1.1282464849155185e-277, 5.641232424577593e-278, 2.8206162122887962e-278, 1.4103081061443981e-278, 7.051540530721991e-279, 3.5257702653609953e-279, 1.7628851326804976e-279, 8.814425663402488e-280, 4.407212831701244e-280, 2.203606415850622e-280, 1.101803207925311e-280, 5.509016039626555e-281, 2.7545080198132776e-281, 1.3772540099066388e-281, 6.886270049533194e-282, 3.443135024766597e-282, 1.7215675123832985e-282, 8.607837561916492e-283, 4.303918780958246e-283, 2.151959390479123e-283, 1.0759796952395615e-283, 5.379898476197808e-284, 2.689949238098904e-284, 1.344974619049452e-284, 6.72487309524726e-285, 3.36243654762363e-285, 1.681218273811815e-285, 8.406091369059075e-286, 4.2030456845295373e-286, 2.1015228422647686e-286, 1.0507614211323843e-286, 5.253807105661922e-287, 2.626903552830961e-287, 1.3134517764154804e-287, 6.567258882077402e-288, 3.283629441038701e-288, 1.6418147205193505e-288, 8.209073602596753e-289, 4.1045368012983762e-289, 2.0522684006491881e-289, 1.0261342003245941e-289, 5.1306710016229703e-290, 2.5653355008114852e-290, 1.2826677504057426e-290, 6.413338752028713e-291, 3.2066693760143564e-291, 1.6033346880071782e-291, 8.016673440035891e-292, 4.008336720017946e-292, 2.004168360008973e-292, 1.0020841800044864e-292, 5.010420900022432e-293, 2.505210450011216e-293, 1.252605225005608e-293, 6.26302612502804e-294, 3.13151306251402e-294, 1.56575653125701e-294, 7.82878265628505e-295, 3.914391328142525e-295, 1.9571956640712625e-295, 9.785978320356312e-296, 4.892989160178156e-296, 2.446494580089078e-296, 1.223247290044539e-296, 6.116236450222695e-297, 3.0581182251113476e-297, 1.5290591125556738e-297, 7.645295562778369e-298, 3.8226477813891845e-298, 1.9113238906945923e-298, 9.556619453472961e-299, 4.778309726736481e-299, 2.3891548633682403e-299, 1.1945774316841202e-299, 5.972887158420601e-300, 2.9864435792103004e-300, 1.4932217896051502e-300, 7.466108948025751e-301, 3.7330544740128755e-301, 1.8665272370064378e-301]\n"
          ]
        }
      ]
    },
    {
      "cell_type": "markdown",
      "metadata": {
        "id": "dh2ntBeoNQlN"
      },
      "source": [
        "# Power Sums Power Sums - [Wolfram MathWorld](https://mathworld.wolfram.com/PowerSum.html) - [wikipedia](https://en.wikipedia.org/wiki/Sums_of_powers) - [reserachgate](https://www.researchgate.net/publication/331933608_The_Powers_Sums_Bernoulli_Numbers_Bernoulli_Polynomials_Rethinked)\n",
        "\n"
      ]
    },
    {
      "cell_type": "code",
      "metadata": {
        "id": "2PyxzzOZVIdl",
        "colab": {
          "base_uri": "https://localhost:8080/"
        },
        "outputId": "ccee332c-0a0b-4ec5-a6b9-d1c5bed52a55"
      },
      "source": [
        "n = 100\n",
        "a = 2\n",
        "\n",
        "acum = 0\n",
        "los_que_van = []\n",
        "for i in range(1,n+1): \n",
        "  ax = a ** (i) \n",
        "  los_que_van.append(ax)\n",
        "  acum = acum + ax\n",
        "print(acum)"
      ],
      "execution_count": 5,
      "outputs": [
        {
          "output_type": "stream",
          "name": "stdout",
          "text": [
            "2535301200456458802993406410750\n"
          ]
        }
      ]
    }
  ]
}